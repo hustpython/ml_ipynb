{
 "cells": [
  {
   "cell_type": "markdown",
   "metadata": {},
   "source": [
    "### 7.11 The Knight’s Tour Problem\n",
    "\n",
    "Another classic problem that we can use to illustrate a second common graph algorithm is \n",
    "called the “knight’s tour.” \n",
    "Although researchers have studied many different algorithms to solve the knight’s tour problem, a graph search is one of the easiest to understand and program. Once again we will solve the problem using two main steps:\n",
    "\n",
    "- Represent the legal moves of a knight on a chessboard as a graph.\n",
    "- Use a graph algorithm to find a path of length rows×columns−1rows×columns−1 where every vertex on the graph is  \n",
    "  visited exactly once."
   ]
  }
 ],
 "metadata": {
  "kernelspec": {
   "display_name": "Python 2",
   "language": "python",
   "name": "python2"
  },
  "language_info": {
   "codemirror_mode": {
    "name": "ipython",
    "version": 2
   },
   "file_extension": ".py",
   "mimetype": "text/x-python",
   "name": "python",
   "nbconvert_exporter": "python",
   "pygments_lexer": "ipython2",
   "version": "2.7.14"
  }
 },
 "nbformat": 4,
 "nbformat_minor": 2
}
