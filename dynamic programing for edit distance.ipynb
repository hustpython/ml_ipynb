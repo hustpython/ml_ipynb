{
 "cells": [
  {
   "cell_type": "markdown",
   "metadata": {},
   "source": [
    ">动态规划Python版\n",
    "$$d[i,j]=\\left\\{\\begin{array}{cc} \n",
    "\t\td[i-1,j-1], &S_1(i)=S_2(j)\\\\ \n",
    "\t\tmin\\left\\{\\begin{array}{cc} \n",
    "\t\td[i,j-1]+1, \\\\ \n",
    "\t\td[i-1,j]+1, \\\\\n",
    "        d[i-1,j-1]+1,\n",
    "\t       \\end{array}\\right.&S_1(i)≠S_2(j)\\\\\n",
    "\t\\end{array}\\right.$$\n",
    "\n",
    "\n",
    "如果只S1(i)=S2(j),那么只需要考1虑S1的前i-1个字符与S2的前j-1个字符。\n",
    "否则：\n",
    "考虑其他三种操作，d[i,j-1]+1，末尾插入。\n",
    "d[i-1,j]+1，删除。\n",
    "d[i-1,j-1]+1，修改。"
   ]
  },
  {
   "cell_type": "code",
   "execution_count": 48,
   "metadata": {},
   "outputs": [
    {
     "name": "stdout",
     "output_type": "stream",
     "text": [
      "[[ 0.  1.  2.  3.  4.  5.]\n",
      " [ 1.  0.  1.  2.  3.  4.]\n",
      " [ 2.  1.  1.  2.  3.  4.]\n",
      " [ 3.  2.  2.  2.  2.  3.]\n",
      " [ 4.  3.  3.  3.  3.  2.]]\n"
     ]
    }
   ],
   "source": [
    "#S1的字符串长度为n1,S2的字符串长度为n2。\n",
    "import numpy as np\n",
    "def geteditlength(s1,s2):\n",
    "    n1=len(s1)\n",
    "    n2=len(s2)\n",
    "    d = np.empty(shape=(n1+1,n2+1))\n",
    "    for j in range(0,n2+1):\n",
    "        d[0,j]=j\n",
    "    for i in range(n1):\n",
    "        d[i+1,0]=i+1\n",
    "        for j in range(n2):\n",
    "            if s1[i]==s2[j]:\n",
    "                d[i+1,j+1]=d[i,j]\n",
    "            else:\n",
    "                d[i+1,j+1]=min([d[i+1,j],d[i,j+1],d[i,j]])+1\n",
    "    return d\n",
    "s1 = [i for i in 'math']\n",
    "s2=[j for j in 'mouth']\n",
    "print(geteditlength(s1,s2))"
   ]
  },
  {
   "cell_type": "code",
   "execution_count": 56,
   "metadata": {},
   "outputs": [
    {
     "name": "stdout",
     "output_type": "stream",
     "text": [
      "[ 2.  2.  2.  3.  4.  5.]\n",
      "[ 2.  2.  2.  3.  4.  5.]\n"
     ]
    }
   ],
   "source": [
    "#滚动数组优化(Sliding Array)\n",
    "import numpy as np\n",
    "def sliding(s1,s2):\n",
    "    n1=len(s1)\n",
    "    n2=len(s2)\n",
    "    dold = np.empty(n2+1)\n",
    "    print(dold)\n",
    "    dnew=np.empty(n2+1)\n",
    "    for j in range(0,n2+1):\n",
    "        dold[j] = j\n",
    "    for i in range(n1):\n",
    "        dnew[0]=i\n",
    "        for j in range(n2):\n",
    "            if s1[i]==s2[j]:\n",
    "                dnew[j+1]==dold[j]\n",
    "            else:  \n",
    "                dnew[j+1]=min([dnew[j],dold[j+1],dold[j]])+1\n",
    "        dnew,dold =dold,dnew\n",
    "    return dnew\n",
    "s1 = [i for i in 'math']\n",
    "s2=[j for j in 'mouth']\n",
    "print(sliding(s1,s2))\n",
    "    "
   ]
  }
 ],
 "metadata": {
  "kernelspec": {
   "display_name": "Python 2",
   "language": "python",
   "name": "python2"
  },
  "language_info": {
   "codemirror_mode": {
    "name": "ipython",
    "version": 2
   },
   "file_extension": ".py",
   "mimetype": "text/x-python",
   "name": "python",
   "nbconvert_exporter": "python",
   "pygments_lexer": "ipython2",
   "version": "2.7.14"
  }
 },
 "nbformat": 4,
 "nbformat_minor": 2
}
