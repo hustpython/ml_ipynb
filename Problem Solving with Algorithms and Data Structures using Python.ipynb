{
 "cells": [
  {
   "cell_type": "markdown",
   "metadata": {},
   "source": [
    "### CHapter7\n",
    "### The Graph Abstract Data Type\n",
    "#### The graph abstract data type (ADT) is defined as follows:\n",
    "\n",
    "- Graph() creates a new, empty graph.\n",
    "- addVertex(vert) adds an instance of Vertex to the graph.\n",
    "- addEdge(fromVert, toVert) Adds a new, directed edge to the graph that connects two vertices.\n",
    "- addEdge(fromVert, toVert, weight) Adds a new, weighted, directed edge to the graph that connects two vertices.\n",
    "- getVertex(vertKey) finds the vertex in the graph named vertKey.\n",
    "- getVertices() returns the list of all vertices in the graph.\n",
    "  in returns True for a statement of the form vertex in graph, if the given vertex is in the graph, False otherwise."
   ]
  },
  {
   "cell_type": "code",
   "execution_count": 15,
   "metadata": {
    "collapsed": true
   },
   "outputs": [],
   "source": [
    "class Vertex(object):\n",
    "    def __init__(self,key):\n",
    "        self.Id = key \n",
    "        self.connectedTo ={}\n",
    "    def addNeighbor(self,nbr,weight=0):\n",
    "        self.connectedTo[nbr]=weight\n",
    "    def __str__(self):\n",
    "        return str(self.id)+'connectedTo'+str([x.id for x in self.connectedTo])\n",
    "    def getConnections(self):\n",
    "        return self.connectedTo.keys()\n",
    "    def getId(self):\n",
    "        return self.Id\n",
    "    def getWeight(self):\n",
    "        return self.connectedTo[nbr]\n",
    "    "
   ]
  },
  {
   "cell_type": "code",
   "execution_count": null,
   "metadata": {
    "collapsed": true
   },
   "outputs": [],
   "source": []
  },
  {
   "cell_type": "code",
   "execution_count": 16,
   "metadata": {
    "collapsed": true
   },
   "outputs": [],
   "source": [
    "class Graph(object):\n",
    "    def __init__(self):\n",
    "        self.vertList = {}\n",
    "        self.numVertices = 0\n",
    "    def addVertex(self,key):\n",
    "        self.numVertices +=1\n",
    "        newVertex = Vertex(key)\n",
    "        self.vertList[key]=newVertex\n",
    "        return newVertex\n",
    "    def getVertex(self,n):\n",
    "        if n in self.vertList:\n",
    "            return self.vertList[n]\n",
    "        else:\n",
    "            return None\n",
    "    def __contains__(self,n):\n",
    "        return n in self.vertList\n",
    "    def addEdge(self,f,t,cost=0):\n",
    "        if f not in self.vertList:\n",
    "            nv = self.addVertex(f)\n",
    "        if t not in self.vertList:\n",
    "            nv = self.addVertex(t)\n",
    "        self.vertList[f].addNeighbor(self.vertList[t],cost)\n",
    "    def getVertics(self):\n",
    "        return self.vertList.keys()\n",
    "    def __iter__(self):\n",
    "        return iter(self.vertList.values())\n",
    "        "
   ]
  },
  {
   "cell_type": "code",
   "execution_count": 23,
   "metadata": {},
   "outputs": [
    {
     "name": "stdout",
     "output_type": "stream",
     "text": [
      "( 0 , 5 )\n",
      "( 0 , 1 )\n",
      "( 1 , 2 )\n",
      "( 2 , 3 )\n",
      "( 3 , 5 )\n",
      "( 3 , 4 )\n",
      "( 4 , 0 )\n",
      "( 5 , 2 )\n",
      "( 5 , 4 )\n"
     ]
    }
   ],
   "source": [
    "g = Graph()\n",
    "for i in range(6):\n",
    "    g.addVertex(i)\n",
    "g.addEdge(0,1,5)\n",
    "g.addEdge(0,5,2)\n",
    "g.addEdge(1,2,4)\n",
    "g.addEdge(2,3,9)\n",
    "g.addEdge(3,4,7)\n",
    "g.addEdge(3,5,3)\n",
    "g.addEdge(4,0,1)\n",
    "g.addEdge(5,4,8)\n",
    "g.addEdge(5,2,1)\n",
    "\n",
    "for v in g:\n",
    "    for w in v.getConnections():\n",
    "        print(\"( %s , %s )\" % (v.getId(), w.getId()))"
   ]
  },
  {
   "cell_type": "markdown",
   "metadata": {},
   "source": [
    "### World Ladder puzzle\n",
    "- 每次改变一个单词的一个字母,从一个单词变成另一个单词.\n",
    "- ForExample:\n",
    " - Fool --->SAGE:\n",
    "     FOOL\n",
    "     POOL\n",
    "     POLL\n",
    "     POLE\n",
    "     PALE\n",
    "     SALE\n",
    "     SAGE\n",
    "   \n",
    " 找到通过最少改变使得Word1--->Word2的方案.\n"
   ]
  },
  {
   "cell_type": "markdown",
   "metadata": {},
   "source": [
    "### Step1.Building the Word Ladder Graph\n",
    "Our first problem is to figure out how to turn a large collection of words into a graph. What we would like is to have an edge from one word to another if the two words are only different by a single letter. If we can create such a graph, then any path from one word to another is a solution to the word ladder puzzle. Figure 1 shows a small graph of some words that solve the FOOL to SAGE word ladder problem. Notice that the graph is an undirected graph and that the edges are unweighted.\n",
    "\n",
    "![](./wordgraph.png)\n",
    "### 方法:\n",
    "\n",
    "- 构造多个桶,不同的桶拥有不同的标签.\n",
    "- 例如我们有一个标签的\"pop_\"的桶\n",
    "- 使用\"_\"作为通配符,和桶中的所有单词进行比较,pope,pops都将和\"pop_\"匹配.每一次找到一个匹配的单词,就把\n",
    "  这个单词放在pop_标签的桶中.\n",
    "- 可以使用Python自带的字典实现这个功能.\n"
   ]
  },
  {
   "cell_type": "code",
   "execution_count": 37,
   "metadata": {},
   "outputs": [
    {
     "data": {
      "text/plain": [
       "<__main__.Graph at 0x7f604fca0810>"
      ]
     },
     "execution_count": 37,
     "metadata": {},
     "output_type": "execute_result"
    }
   ],
   "source": [
    "#构造这个桶\n",
    "#Litscape.com\n",
    "'''Classic Literature\n",
    "Word Finder Tools\n",
    "Word Analysis\t\n",
    "…\n",
    "Word Finder Tools, Operating On The Litscape Default Censored Word List\n",
    "Start ListsEnd ListsLength ListsAnagram Lists\n",
    "Litscape Default Censored Word List\n",
    "4 letter word list in the Litscape.com default word list\n",
    "Litscape Default Censored Word List:\n",
    "2404 words that are 4 letters long'''\n",
    "\n",
    "\n",
    "def buildGraph(wordFile):\n",
    "    wordlist = []\n",
    "    #d = defaultdict(list)\n",
    "    d ={}\n",
    "    g=Graph()\n",
    "    wfile = open(wordFile,'r')\n",
    "    for line in wfile:\n",
    "        word = line[:-1]\n",
    "        \n",
    "        for i in range(len(word)):\n",
    "            bucket = word[:i]+\"_\"+word[i+1:]\n",
    "            if bucket in d:\n",
    "                \n",
    "                d[bucket].append(word)\n",
    "            else:\n",
    "                d[bucket] = [word] \n",
    "    for bucket in d.keys():\n",
    "        for word1 in d[bucket]:\n",
    "            for word2 in d[bucket]:\n",
    "                if word1 != word2:\n",
    "                    g.addEdge(word1,word2)\n",
    "    return g\n",
    "            \n",
    "buildGraph('four-word.txt')          \n"
   ]
  }
 ],
 "metadata": {
  "kernelspec": {
   "display_name": "Python 2",
   "language": "python",
   "name": "python2"
  },
  "language_info": {
   "codemirror_mode": {
    "name": "ipython",
    "version": 2
   },
   "file_extension": ".py",
   "mimetype": "text/x-python",
   "name": "python",
   "nbconvert_exporter": "python",
   "pygments_lexer": "ipython2",
   "version": "2.7.14"
  }
 },
 "nbformat": 4,
 "nbformat_minor": 2
}
