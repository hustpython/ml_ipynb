{
 "cells": [
  {
   "cell_type": "markdown",
   "metadata": {},
   "source": [
    "### CHapter7\n",
    "### The Graph Abstract Data Type\n",
    "#### The graph abstract data type (ADT) is defined as follows:\n",
    "\n",
    "- Graph() creates a new, empty graph.\n",
    "- addVertex(vert) adds an instance of Vertex to the graph.\n",
    "- addEdge(fromVert, toVert) Adds a new, directed edge to the graph that connects two vertices.\n",
    "- addEdge(fromVert, toVert, weight) Adds a new, weighted, directed edge to the graph that connects two vertices.\n",
    "- getVertex(vertKey) finds the vertex in the graph named vertKey.\n",
    "- getVertices() returns the list of all vertices in the graph.\n",
    "  in returns True for a statement of the form vertex in graph, if the given vertex is in the graph, False otherwise."
   ]
  },
  {
   "cell_type": "code",
   "execution_count": 119,
   "metadata": {
    "collapsed": true
   },
   "outputs": [],
   "source": [
    "import sys\n",
    "class Vertex(object):\n",
    "    def __init__(self,key):\n",
    "        self.id = key \n",
    "        self.connectedTo = {}\n",
    "        self.color = 'white'\n",
    "        self.dist = sys.maxsize\n",
    "        self.pred = None\n",
    "        self.disc = 0\n",
    "        self.fin = 0\n",
    "    def addNeighbor(self,nbr,weight=0):\n",
    "        self.connectedTo[nbr]=weight\n",
    "    def setColor(self,color):\n",
    "        self.color = color\n",
    "    def setDistance(self,d):\n",
    "        self.dist = d\n",
    "    def setPred(self,p):\n",
    "        self.pred = p\n",
    "    def setDiscovery(self,dtime):\n",
    "        self.disc = dtime\n",
    "    def setFinish(self,ftime):\n",
    "        self.fin = ftime\n",
    "    def getFinish(self):\n",
    "        return self.fin\n",
    "    def getDiscovery(self):\n",
    "        return self.disc\n",
    "    def getPred(self):\n",
    "        return self.pred\n",
    "    def getDistance(self):\n",
    "        return self.dist\n",
    "    def getColor(self):\n",
    "        return self.color    \n",
    "    def getConnections(self):\n",
    "        return self.connectedTo.keys()\n",
    "    def getId(self):\n",
    "        return self.id\n",
    "    def getWeight(self):\n",
    "        return self.connectedTo[nbr]\n",
    "    def __str__(self):\n",
    "        return str(self.id) + \":color \" + self.color + \":disc \" + str(self.disc) + \":fin \" + str(self.fin) + \":dist \" + str(self.dist) + \":pred \\n\\t[\" + str(self.pred)+ \"]\\n\"\n",
    "\n",
    "\n",
    "              \n",
    "\n",
    "    "
   ]
  },
  {
   "cell_type": "code",
   "execution_count": 120,
   "metadata": {
    "collapsed": true
   },
   "outputs": [],
   "source": [
    "class Graph(object):\n",
    "    def __init__(self):\n",
    "        self.vertList = {}\n",
    "        self.numVertices = 0\n",
    "    def addVertex(self,key):\n",
    "        self.numVertices +=1\n",
    "        newVertex = Vertex(key)\n",
    "        self.vertList[key]=newVertex\n",
    "        return newVertex\n",
    "    def getVertex(self,n):\n",
    "        if n in self.vertList:\n",
    "            return self.vertList[n]\n",
    "        else:\n",
    "            return None\n",
    "    def __contains__(self,n):\n",
    "        return n in self.vertList\n",
    "    def addEdge(self,f,t,cost=0):\n",
    "        if f not in self.vertList:\n",
    "            nv = self.addVertex(f)\n",
    "        if t not in self.vertList:\n",
    "            nv = self.addVertex(t)\n",
    "        self.vertList[f].addNeighbor(self.vertList[t],cost)\n",
    "    def getVertics(self):\n",
    "        return self.vertList.keys()\n",
    "    def __iter__(self):\n",
    "        return iter(self.vertList.values())\n",
    "        "
   ]
  },
  {
   "cell_type": "code",
   "execution_count": 121,
   "metadata": {},
   "outputs": [
    {
     "name": "stdout",
     "output_type": "stream",
     "text": [
      "( 0 , 5 )\n",
      "( 0 , 1 )\n",
      "( 1 , 2 )\n",
      "( 2 , 3 )\n",
      "( 3 , 5 )\n",
      "( 3 , 4 )\n",
      "( 4 , 0 )\n",
      "( 5 , 2 )\n",
      "( 5 , 4 )\n"
     ]
    }
   ],
   "source": [
    "g = Graph()\n",
    "for i in range(6):\n",
    "    g.addVertex(i)\n",
    "g.addEdge(0,1,5)\n",
    "g.addEdge(0,5,2)\n",
    "g.addEdge(1,2,4)\n",
    "g.addEdge(2,3,9)\n",
    "g.addEdge(3,4,7)\n",
    "g.addEdge(3,5,3)\n",
    "g.addEdge(4,0,1)\n",
    "g.addEdge(5,4,8)\n",
    "g.addEdge(5,2,1)\n",
    "\n",
    "for v in g:\n",
    "    for w in v.getConnections():\n",
    "        print(\"( %s , %s )\" % (v.getId(), w.getId()))"
   ]
  },
  {
   "cell_type": "markdown",
   "metadata": {},
   "source": [
    "### World Ladder puzzle\n",
    "- 每次改变一个单词的一个字母,从一个单词变成另一个单词.\n",
    "- ForExample:\n",
    " - Fool --->SAGE:\n",
    "     FOOL\n",
    "     POOL\n",
    "     POLL\n",
    "     POLE\n",
    "     PALE\n",
    "     SALE\n",
    "     SAGE\n",
    "   \n",
    " 找到通过最少改变使得Word1--->Word2的方案.\n"
   ]
  },
  {
   "cell_type": "markdown",
   "metadata": {},
   "source": [
    "### Step1.Building the Word Ladder Graph\n",
    "Our first problem is to figure out how to turn a large collection of words into a graph. What we would like is to have an edge from one word to another if the two words are only different by a single letter. If we can create such a graph, then any path from one word to another is a solution to the word ladder puzzle. Figure 1 shows a small graph of some words that solve the FOOL to SAGE word ladder problem. Notice that the graph is an undirected graph and that the edges are unweighted.\n",
    "\n",
    "![](./wordgraph.png)\n",
    "### 方法:\n",
    "\n",
    "- 构造多个桶,不同的桶拥有不同的标签.\n",
    "- 例如我们有一个标签的\"pop_\"的桶\n",
    "- 使用\"_\"作为通配符,和桶中的所有单词进行比较,pope,pops都将和\"pop_\"匹配.每一次找到一个匹配的单词,就把\n",
    "  这个单词放在pop_标签的桶中.\n",
    "- 可以使用Python自带的字典实现这个功能.\n"
   ]
  },
  {
   "cell_type": "code",
   "execution_count": 122,
   "metadata": {},
   "outputs": [],
   "source": [
    "#构造这个桶\n",
    "#Litscape.com\n",
    "'''Classic Literature\n",
    "Word Finder Tools\n",
    "Word Analysis\t\n",
    "…\n",
    "Word Finder Tools, Operating On The Litscape Default Censored Word List\n",
    "Start ListsEnd ListsLength ListsAnagram Lists\n",
    "Litscape Default Censored Word List\n",
    "4 letter word list in the Litscape.com default word list\n",
    "Litscape Default Censored Word List:\n",
    "2404 words that are 4 letters long'''\n",
    "\n",
    "from collections import defaultdict\n",
    "\n",
    "\n",
    "def buildGraph(wordFile):\n",
    "    wordlist = []\n",
    "    #d = defaultdict(list)\n",
    "    d =defaultdict(list)\n",
    "    g=Graph()\n",
    "    wfile = open(wordFile,'r')\n",
    "    for line in wfile:\n",
    "        word = line[:-1]\n",
    "        \n",
    "        for i in range(len(word)):\n",
    "            bucket = word[:i]+\"_\"+word[i+1:]\n",
    "            \n",
    "            d[bucket].append(word)\n",
    "            \n",
    "    for bucket in d.keys():\n",
    "        for word1 in d[bucket]:\n",
    "            for word2 in d[bucket]:\n",
    "                if word1 != word2:\n",
    "                    g.addEdge(word1,word2)\n",
    "    return g\n",
    "            \n",
    "      \n"
   ]
  },
  {
   "cell_type": "markdown",
   "metadata": {},
   "source": [
    "### Step2.Implementing Breadth First Search\n",
    "- 从一个顶点S开始,开始的颜色是灰色,以表示这个点已经被探索过了,还有两个其它值包括:距离和上一个点.\n",
    "  分别给予初始值:0,None.\n",
    "- 将这个初始点放进一个队列当中.\n",
    "- 然后开始按部就班地探索这个队列前面的点.\n",
    "- 我们通过迭代邻近列表(桶)来搜索队列中的每一个新节点.\n",
    "- 检查邻近列表中的每一个节点的颜色.如果是白色.表示这个顶点未被搜索.相应的会有四种情况发生.\n",
    "- 新的未被搜索的顶点nbr是灰色的.\n",
    "- nbr的上一个点的被设置为最近被搜索过的点.\n",
    "- 到nbr的距离设置为currentVert+1\n",
    "- nbr被添加到队列的末尾"
   ]
  },
  {
   "cell_type": "code",
   "execution_count": 128,
   "metadata": {},
   "outputs": [],
   "source": [
    "import Queue\n",
    "\n",
    "def bfs(g,start):\n",
    "    start.setDistance(0)\n",
    "    start.setPred(None)\n",
    "    vertQueue = Queue.Queue()\n",
    "    vertQueue.put(start)\n",
    "    while (vertQueue.qsize()>0):\n",
    "        currentVert=vertQueue.get()\n",
    "        for nbr in currentVert.getConnections():\n",
    "            if nbr.getColor()=='white':\n",
    "                nbr.setColor('gray')\n",
    "                nbr.setDistance(currentVert.getDistance()+1)\n",
    "                nbr.setPred(currentVert)\n",
    "                vertQueue.put(nbr)\n",
    "        currentVert.setColor('black')\n",
    "g = buildGraph('four-word.txt')    \n",
    "start = g.getVertex('fool')\n",
    "bfs(g,start)"
   ]
  },
  {
   "cell_type": "code",
   "execution_count": 137,
   "metadata": {},
   "outputs": [
    {
     "name": "stdout",
     "output_type": "stream",
     "text": [
      "next\n",
      "neat\n",
      "beat\n",
      "boat\n",
      "boot\n",
      "foot\n",
      "fool\n"
     ]
    }
   ],
   "source": [
    "def traverse(y):\n",
    "    x = y\n",
    "    while (x.getPred()):\n",
    "        print(x.getId())\n",
    "        x = x.getPred()\n",
    "    print(x.getId())\n",
    "\n",
    "traverse(g.getVertex('next'))"
   ]
  }
 ],
 "metadata": {
  "kernelspec": {
   "display_name": "Python 2",
   "language": "python",
   "name": "python2"
  },
  "language_info": {
   "codemirror_mode": {
    "name": "ipython",
    "version": 2
   },
   "file_extension": ".py",
   "mimetype": "text/x-python",
   "name": "python",
   "nbconvert_exporter": "python",
   "pygments_lexer": "ipython2",
   "version": "2.7.14"
  }
 },
 "nbformat": 4,
 "nbformat_minor": 2
}
